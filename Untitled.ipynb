{
 "cells": [
  {
   "cell_type": "code",
   "execution_count": 87,
   "metadata": {
    "ExecuteTime": {
     "end_time": "2020-03-17T10:29:18.156998Z",
     "start_time": "2020-03-17T10:29:18.146517Z"
    }
   },
   "outputs": [],
   "source": [
    "import pandas as pd\n",
    "import numpy as np\n",
    "import spotipy\n",
    "from spotipy.oauth2 import SpotifyClientCredentials\n",
    "cid = '667b885478864cdaa451d528aa6b1730'\n",
    "secret = '29f10790089b4ca5a0208c72199d2105'\n",
    "client_credentials_manager = SpotifyClientCredentials(client_id=cid, client_secret=secret)\n",
    "sp = spotipy.Spotify(client_credentials_manager=client_credentials_manager)\n",
    "\n",
    "result=sp.search('WWE',type='playlist')\n",
    "\n",
    "ids={}\n",
    "for i in range(len(result['playlists']['items'])):\n",
    "    ids[i]=result['playlists']['items'][i]['id']\n",
    "\n",
    "def show_tracks(results,uri_array):\n",
    "    for i, item in enumerate(results['items']):\n",
    "        track=item['track']\n",
    "        uri_array.append(track['id'])\n",
    "\n",
    "def get_playlist_track_id(ids):\n",
    "    trackId=[]\n",
    "    for i in range(len(ids)):\n",
    "        results=sp.playlist(ids[i])\n",
    "        tracks=results['tracks']\n",
    "        show_tracks(tracks,trackId)\n",
    "        while tracks['next']:\n",
    "            tracks=sp.next(tracks)\n",
    "            show_tracks(tracks,trackId)\n",
    "    return trackId\n",
    "\n",
    "name=[]\n",
    "dance=[]\n",
    "energy=[]\n",
    "loud=[]\n",
    "speech=[]\n",
    "acoustic=[]\n",
    "instru=[]\n",
    "live=[]\n",
    "tempo=[]\n",
    "for track in range(len(track_ids)):\n",
    "    af=sp.audio_features(track_ids[track])[0]\n",
    "    name.append(sp.track(af['id'])['name'])\n",
    "    dance.append(af['danceability'])\n",
    "    energy.append(af['energy'])\n",
    "    loud.append(af['loudness'])\n",
    "    speech.append(af['speechiness'])\n",
    "    acoustic.append(af['acousticness'])\n",
    "    instru.append(af['instrumentalness'])\n",
    "    live.append(af['liveness'])\n",
    "    tempo.append(af['tempo'])\n",
    "\n",
    "df=pd.DataFrame()\n",
    "\n",
    "df['track_name']=name\n",
    "df['danceability']=dance\n",
    "df['energy']=energy\n",
    "df['loudness']=loud\n",
    "df['speechiness']=speech\n",
    "df['acousticness']=acoustic\n",
    "df['instrumentalness']=instru\n",
    "df['liveness']=live\n",
    "df['tempo']=tempo\n",
    "\n",
    "performer=[]\n",
    "for track in range(len(df)):\n",
    "    try:\n",
    "        performer.append(df.track_name[track].split('(')[1].replace(')',''))\n",
    "    except:\n",
    "        performer.append(np.nan)\n",
    "        \n",
    "df['performer']=performer\n",
    "df.dropna(inplace=True)\n",
    "df.drop_duplicates(keep='first',inplace=True,subset=['performer'])\n",
    "df.reset_index(drop=True,inplace=True)\n",
    "df.drop('track_name',axis=1,inplace=True)\n",
    "df.to_csv('wwe_theme.csv',index=False)"
   ]
  },
  {
   "cell_type": "code",
   "execution_count": 89,
   "metadata": {
    "ExecuteTime": {
     "end_time": "2020-03-17T10:29:35.002286Z",
     "start_time": "2020-03-17T10:29:34.989498Z"
    }
   },
   "outputs": [],
   "source": []
  },
  {
   "cell_type": "code",
   "execution_count": 91,
   "metadata": {
    "ExecuteTime": {
     "end_time": "2020-03-17T10:30:13.053948Z",
     "start_time": "2020-03-17T10:30:13.040419Z"
    }
   },
   "outputs": [],
   "source": []
  },
  {
   "cell_type": "code",
   "execution_count": 94,
   "metadata": {
    "ExecuteTime": {
     "end_time": "2020-03-17T10:31:00.299089Z",
     "start_time": "2020-03-17T10:31:00.292645Z"
    }
   },
   "outputs": [],
   "source": []
  },
  {
   "cell_type": "code",
   "execution_count": 97,
   "metadata": {
    "ExecuteTime": {
     "end_time": "2020-03-17T10:31:29.020673Z",
     "start_time": "2020-03-17T10:31:29.008931Z"
    }
   },
   "outputs": [],
   "source": []
  },
  {
   "cell_type": "code",
   "execution_count": 99,
   "metadata": {
    "ExecuteTime": {
     "end_time": "2020-03-17T10:31:52.514199Z",
     "start_time": "2020-03-17T10:31:52.491532Z"
    }
   },
   "outputs": [],
   "source": []
  },
  {
   "cell_type": "code",
   "execution_count": null,
   "metadata": {},
   "outputs": [],
   "source": []
  }
 ],
 "metadata": {
  "kernelspec": {
   "display_name": "Python 3",
   "language": "python",
   "name": "python3"
  },
  "language_info": {
   "codemirror_mode": {
    "name": "ipython",
    "version": 3
   },
   "file_extension": ".py",
   "mimetype": "text/x-python",
   "name": "python",
   "nbconvert_exporter": "python",
   "pygments_lexer": "ipython3",
   "version": "3.7.6"
  },
  "varInspector": {
   "cols": {
    "lenName": 16,
    "lenType": 16,
    "lenVar": 40
   },
   "kernels_config": {
    "python": {
     "delete_cmd_postfix": "",
     "delete_cmd_prefix": "del ",
     "library": "var_list.py",
     "varRefreshCmd": "print(var_dic_list())"
    },
    "r": {
     "delete_cmd_postfix": ") ",
     "delete_cmd_prefix": "rm(",
     "library": "var_list.r",
     "varRefreshCmd": "cat(var_dic_list()) "
    }
   },
   "types_to_exclude": [
    "module",
    "function",
    "builtin_function_or_method",
    "instance",
    "_Feature"
   ],
   "window_display": false
  }
 },
 "nbformat": 4,
 "nbformat_minor": 2
}
